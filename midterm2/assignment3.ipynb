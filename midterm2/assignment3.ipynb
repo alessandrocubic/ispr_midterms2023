{
 "cells": [
  {
   "attachments": {},
   "cell_type": "markdown",
   "metadata": {},
   "source": [
    "# ISPR Midterm 2 Assignment 3\n",
    "## Alessandro Bucci MAT. 638619\n",
    "\n",
    "Implement from scratch an RBM and apply it to DSET3. The RBM should be implemented fully by you (both CD-1 training and inference steps) but you are free to use library functions for the rest (e.g. image loading and management, etc.).\n",
    "\n",
    "1.     Train an RBM with a number of hidden neurons selected by you (single layer) on the MNIST data (use the training set split provided by the website).\n",
    "\n",
    "2.     Use the trained RBM to encode a selection of test images (e.g. using one per digit type) using the corresponding activation of the hidden neurons.\n",
    "\n",
    "3.     Reconstruct the original test images from their hidden encoding and confront the reconstructions with the original image (use a suitable quantitative metric to assess the reconstraction quality and also choose few examples to confront visually)."
   ]
  },
  {
   "attachments": {},
   "cell_type": "markdown",
   "metadata": {},
   "source": [
    "### Importing libraries"
   ]
  },
  {
   "cell_type": "code",
   "execution_count": 1,
   "metadata": {},
   "outputs": [],
   "source": [
    "import matplotlib.pyplot as plt\n",
    "import numpy as np\n"
   ]
  },
  {
   "attachments": {},
   "cell_type": "markdown",
   "metadata": {},
   "source": [
    "### Loading MNIST"
   ]
  },
  {
   "cell_type": "code",
   "execution_count": 16,
   "metadata": {},
   "outputs": [],
   "source": [
    "x_test = np.load('./dataset/x_test.npy')\n",
    "x_train = np.load('./dataset/x_train.npy')\n",
    "y_test = np.load('./dataset/y_test.npy')\n",
    "y_train = np.load('./dataset/y_train.npy')"
   ]
  },
  {
   "cell_type": "code",
   "execution_count": 26,
   "metadata": {},
   "outputs": [],
   "source": [
    "def get_image(image_index, dataset):\n",
    "    try:\n",
    "        return dataset[image_index,:].reshape(28,28) \n",
    "    except:\n",
    "        return None\n",
    "    \n",
    "def get_single_number_dataset(number, x, y):\n",
    "    return x[y == number] if np.abs(number) <= 9 else None \n"
   ]
  },
  {
   "cell_type": "code",
   "execution_count": null,
   "metadata": {},
   "outputs": [],
   "source": [
    "x = get_single_number_dataset(9, x_train, y_train)\n",
    "\n",
    "for i in range(15):\n",
    "    plt.imshow(x[i,:].reshape(28,28), cmap='gray')\n",
    "    plt.show() # Show the image"
   ]
  }
 ],
 "metadata": {
  "kernelspec": {
   "display_name": "Python 3",
   "language": "python",
   "name": "python3"
  },
  "language_info": {
   "codemirror_mode": {
    "name": "ipython",
    "version": 3
   },
   "file_extension": ".py",
   "mimetype": "text/x-python",
   "name": "python",
   "nbconvert_exporter": "python",
   "pygments_lexer": "ipython3",
   "version": "3.11.0"
  },
  "orig_nbformat": 4,
  "vscode": {
   "interpreter": {
    "hash": "fcfcd44f0d36a8a979d1304197cc2dc39ec3c8951aa7b0f4f91c37fd5563e2dc"
   }
  }
 },
 "nbformat": 4,
 "nbformat_minor": 2
}
